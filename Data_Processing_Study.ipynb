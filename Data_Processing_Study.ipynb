{
  "nbformat": 4,
  "nbformat_minor": 0,
  "metadata": {
    "colab": {
      "name": "Data Processing Study.ipynb",
      "private_outputs": true,
      "provenance": [],
      "authorship_tag": "ABX9TyOxtmi+XgoOJhj4fnMk6nMb",
      "include_colab_link": true
    },
    "kernelspec": {
      "name": "python3",
      "display_name": "Python 3"
    },
    "language_info": {
      "name": "python"
    }
  },
  "cells": [
    {
      "cell_type": "markdown",
      "metadata": {
        "id": "view-in-github",
        "colab_type": "text"
      },
      "source": [
        "<a href=\"https://colab.research.google.com/github/junheeyoon/AV/blob/master/Data_Processing_Study.ipynb\" target=\"_parent\"><img src=\"https://colab.research.google.com/assets/colab-badge.svg\" alt=\"Open In Colab\"/></a>"
      ]
    },
    {
      "cell_type": "markdown",
      "metadata": {
        "id": "PM6puDuNJlap"
      },
      "source": [
        "#빅데이터 분석기사 실기 스터디"
      ]
    },
    {
      "cell_type": "markdown",
      "metadata": {
        "id": "ulQY7C4vQAEd"
      },
      "source": [
        "# 0. 환경 세팅"
      ]
    },
    {
      "cell_type": "code",
      "metadata": {
        "id": "-rxtTSZCO0EW"
      },
      "source": [
        "import numpy as np\n",
        "import pandas as pd\n",
        "import sklearn\n",
        "import tensorflow as tf"
      ],
      "execution_count": null,
      "outputs": []
    },
    {
      "cell_type": "code",
      "metadata": {
        "id": "y9IX0UFYJ5rZ"
      },
      "source": [
        "from google.colab import drive\n",
        "drive.mount('/content/drive')"
      ],
      "execution_count": null,
      "outputs": []
    },
    {
      "cell_type": "markdown",
      "metadata": {
        "id": "GHORxmtOLLjx"
      },
      "source": [
        "#1. 데이터 탐색"
      ]
    },
    {
      "cell_type": "code",
      "metadata": {
        "id": "Mie2I0I0LPAJ"
      },
      "source": [
        "path_to_data = \"/content/drive/My Drive/데이터분석/mtcars.csv\"\n",
        "df = pd.read_csv(path_to_data)"
      ],
      "execution_count": null,
      "outputs": []
    },
    {
      "cell_type": "code",
      "metadata": {
        "id": "90I7FexwLXkX"
      },
      "source": [
        "df.head()"
      ],
      "execution_count": null,
      "outputs": []
    },
    {
      "cell_type": "code",
      "metadata": {
        "id": "Xz-U-QKmLeZc"
      },
      "source": [
        ""
      ],
      "execution_count": null,
      "outputs": []
    }
  ]
}